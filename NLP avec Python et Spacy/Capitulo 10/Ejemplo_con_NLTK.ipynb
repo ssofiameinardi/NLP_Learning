{
 "cells": [
  {
   "cell_type": "markdown",
   "metadata": {},
   "source": [
    "RECONOCIMIENTO DEL IDIOMA UTILIZADO: Estrategias en NLP\n",
    "- Analisis de la frecuencia de caracteres en el texto: Identifica caracteristicas de lenguajes como letras o combinaciones de letras frecuentes\n",
    "- N-gramas y modelos de idioma: Analizando las secuencas de caracteres o las palabras, los modelos pueden ser utilizados para estimar la probabilidad de una\n",
    "secuencia dada en un idioma particular"
   ]
  },
  {
   "cell_type": "code",
   "execution_count": 2,
   "metadata": {},
   "outputs": [],
   "source": [
    "texte_en = \"Hello, how are you today?\"\n",
    "texte_fr = \"Bonjour, comment vas-tu aujourd'hui?\"\n",
    "texte_de = \"Hallo, wie geht es Ihnen heute?\"\n",
    "texte_es = \"Hola, ¿cómo estás hoy?\""
   ]
  },
  {
   "cell_type": "code",
   "execution_count": 1,
   "metadata": {},
   "outputs": [],
   "source": [
    "letter_sets = {\n",
    "    'en': set('etaoinshrdlcumwfgypbvkjxqz'),\n",
    "    'fr': set('esaitnruoldcmpévqfbghàxjèyêëçâîôûùü'),\n",
    "    'es': set('eaosrnidluctmpévqfbghñyáíóúü'),\n",
    "    'de': set('ensriahdtulcömgebpvfküzäßyjqx')\n",
    "}"
   ]
  },
  {
   "cell_type": "code",
   "execution_count": null,
   "metadata": {},
   "outputs": [],
   "source": [
    "def detect_language(text):\n",
    "    words = wordpunct_tokenize(text.lower())\n",
    "    \n",
    "    letter_sets = {\n",
    "        'en': set('etaoinshrdlcumwfgypbvkjxqz'),\n",
    "        'fr': set('esaitnruoldcmpévqfbghàxjèyêëçâîôûùü'),\n",
    "        'es': set('eaosrnidluctmpévqfbghñyáíóúü'),\n",
    "        'de': set('ensriahdtulcömgebpvfküzäßyjqx')\n",
    "    }\n",
    "    \n",
    "    letter_count = Counter(''.join(words))\n",
    "    \n",
    "    #Calcular las proporciones de letras para cada idioma\n",
    "    lang_ratios = {}\n",
    "    for lang, lang_set in letter_sets.items():\n",
    "        common_letters = lang_set.intersection(letter_count.keys())\n",
    "        lang_ratios[lang] = sum(letter_count[letter] for letter in common_letters)\n",
    "        \n",
    "    detected_language = max(lang_ratios, key=lang_ratios.get)\n",
    "    return detected_language"
   ]
  },
  {
   "cell_type": "code",
   "execution_count": 3,
   "metadata": {},
   "outputs": [
    {
     "name": "stdout",
     "output_type": "stream",
     "text": [
      "Langue détectée pour le texte en anglais: en\n",
      "Langue détectée pour le texte en français: en\n",
      "Langue détectée pour le texte en allemand: en\n",
      "Langue détectée pour le texte en espagnol: es\n"
     ]
    }
   ],
   "source": [
    "import nltk\n",
    "from nltk import wordpunct_tokenize\n",
    "from collections import Counter\n",
    "from nltk import download\n",
    "\n",
    "def detect_language(text):\n",
    "    words = wordpunct_tokenize(text.lower())\n",
    "    \n",
    "    letter_sets = {\n",
    "        'en': set('etaoinshrdlcumwfgypbvkjxqz'),\n",
    "        'fr': set('esaitnruoldcmpévqfbghàxjèyêëçâîôûùü'),\n",
    "        'es': set('eaosrnidluctmpévqfbghñyáíóúü'),\n",
    "        'de': set('ensriahdtulcömgebpvfküzäßyjqx')\n",
    "    }\n",
    "    \n",
    "    letter_count = Counter(''.join(words))\n",
    "    \n",
    "    #Calcular las proporciones de letras para cada idioma\n",
    "    lang_ratios = {}\n",
    "    for lang, lang_set in letter_sets.items():\n",
    "        common_letters = lang_set.intersection(letter_count.keys())\n",
    "        lang_ratios[lang] = sum(letter_count[letter] for letter in common_letters)\n",
    "        \n",
    "    detected_language = max(lang_ratios, key=lang_ratios.get)\n",
    "    return detected_language\n",
    "\n",
    "texte_en = \"Hello, how are you today?\"\n",
    "texte_fr = \"Bonjour, comment vas-tu aujourd'hui?\"\n",
    "texte_de = \"Hallo, wie geht es Ihnen heute?\"\n",
    "texte_es = \"Hola, ¿cómo estás hoy?\"\n",
    "\n",
    "langue_en = detect_language(texte_en)\n",
    "langue_fr = detect_language(texte_fr)\n",
    "langue_de = detect_language(texte_de)\n",
    "langue_es = detect_language(texte_es)\n",
    "\n",
    "print(f\"Langue détectée pour le texte en anglais: {langue_en}\")\n",
    "print(f\"Langue détectée pour le texte en français: {langue_fr}\")\n",
    "print(f\"Langue détectée pour le texte en allemand: {langue_de}\")\n",
    "print(f\"Langue détectée pour le texte en espagnol: {langue_es}\")"
   ]
  }
 ],
 "metadata": {
  "kernelspec": {
   "display_name": "Python 3",
   "language": "python",
   "name": "python3"
  },
  "language_info": {
   "codemirror_mode": {
    "name": "ipython",
    "version": 3
   },
   "file_extension": ".py",
   "mimetype": "text/x-python",
   "name": "python",
   "nbconvert_exporter": "python",
   "pygments_lexer": "ipython3",
   "version": "3.11.9"
  }
 },
 "nbformat": 4,
 "nbformat_minor": 2
}
