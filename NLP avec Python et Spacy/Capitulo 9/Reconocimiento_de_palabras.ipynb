{
 "cells": [
  {
   "cell_type": "markdown",
   "metadata": {},
   "source": [
    "Tiene como objetivo transcribir señales de audio en texto escrito.\n",
    "Los elementos claves del reconocimiento de palabras:\n",
    "    - Pre-tratamiento de audio: las señales de audio necesitan un pre-tratamiento para eliminar ruido indeseable\n",
    "    - Modelización acústica: Analiza las carácterísticas acusticas de señales de audio para identificar patrones tales como fonética y las unidades de base del idioma hablado\n",
    "    - Modelización linguistica: examina las secuencias de palabras posibles y evalua la probabilidad de una secuencia particular en funcion del contexto linguistico\n",
    "    - Decodificador: fusiona la informacion de la modelizacion acústica y la linguistica para generar la transcripcion final, convirtiendo asi las señales en texto escrito\n",
    "\n",
    "Se utiliza la biblioteca SpeechRecognition"
   ]
  },
  {
   "cell_type": "code",
   "execution_count": null,
   "metadata": {},
   "outputs": [],
   "source": [
    "import speech_recognition as sr\n",
    "from nltk.tokenize import word_tokenize\n",
    "from nltk.corpus import stopwords\n",
    "\n",
    "#Funcion de reconocimiento de la palabra\n",
    "def reconnaissance_parole(fichier_audio):\n",
    "    recognizer = sr.Recognizer()\n",
    "    \n",
    "    try:\n",
    "        #Cargar el archivo de audio\n",
    "        with sr.AudioFile(fichier_audio) as source:\n",
    "            #Utilizar el algortimo de reduccion de ruido\n",
    "            recognizer.adjust_for_ambient_noise(source)\n",
    "            \n",
    "            #Registro del audio\n",
    "            audio = recognizer.record(source)\n",
    "            \n",
    "            #Reconocimiento de la palabra\n",
    "            texte_transcrit = recognizer.recognize_google(audio, language=\"fr-FR\")\n",
    "            \n",
    "            return texte_transcrit\n",
    "    \n",
    "    except sr.UnknownValueError:\n",
    "        print(\"La reconnaissance de la perole a échoué.\")\n",
    "        return None\n",
    "    except sr.RequestError as e:\n",
    "        print(f\"Erreur lors de la requête à l'API Google: {e}\")\n",
    "        return None\n",
    "\n",
    "#Camino hacia el archivo de audio\n",
    "archivo_audio_path = \"/Users/Benoit2023/Documents/Chers amis Bonjour. Bonjour.wav\" #Obvio que no me va a funcionar pq no es el path de mi archivo\n",
    "\n",
    "transcription = reconnaissance_parole(archivo_audio_path)\n",
    "\n",
    "if transcription: \n",
    "    print(\"Transcription de la parole: \")\n",
    "    print(transcription)\n",
    "else:\n",
    "    print(\"La transcripcion de la parole a échoué.\")"
   ]
  },
  {
   "cell_type": "markdown",
   "metadata": {},
   "source": [
    "Descripcion del código:\n",
    "- Se importan las bibliotecas: SpeechRecognition para el reconocimiento y NLTK para la tokenización y la gestión de palabras vacías\n",
    "- La función reconnaissance_parole que utiliza sr.Recognizer para inicializar el recognizer\n",
    "- Cargamos el archivo de audio con sr.AudioFile\n",
    "- Utilizamos el algoritmo de reducción de ruido\n",
    "- Registramos el audio y utilizamos recognizer.recognize_google para el reconocimiento de la palabra\n",
    "- Llamamos a la función previamente dicha sobre la base del archivo de audio almacenado localmente\n",
    "- Mostramos la transcripción resultante"
   ]
  },
  {
   "cell_type": "code",
   "execution_count": 5,
   "metadata": {},
   "outputs": [
    {
     "name": "stdout",
     "output_type": "stream",
     "text": [
      "Transcription de la parole: \n",
      "become accepted as self evident a second bill of rights under which a new basis of security and prosperity can be established for all regardless of station or race or Creed among these are the right to a useful and remunerative job in the industry or shops or farms online throughout the nation to provide adequate food and clothing and Recreation rate of every farmer raised and selling products at a return which will give him his family a decent living the right of every businessman large and small to trade in an atmosphere of freedom freedom from unfair competition and domination by monopolis at home or abroad right of every family to a decent home the right to adequate medical care and the opportunity to achieve and enjoy good health the right to adequate protection from the economic fares of old age sickness accident and unemployment the rate to a good education all of these rights spell security\n"
     ]
    }
   ],
   "source": [
    "#En inglés: C:\\Users\\Lenovo\\Downloads\\Second_Bill_of_Rights_Speech.wav\n",
    "\n",
    "import speech_recognition as sr\n",
    "from nltk.tokenize import word_tokenize\n",
    "from nltk.corpus import stopwords\n",
    "\n",
    "#Funcion de reconocimiento de la palabra\n",
    "def reconnaissance_parole(fichier_audio):\n",
    "    recognizer = sr.Recognizer()\n",
    "    \n",
    "    try:\n",
    "        #Cargar el archivo de audio\n",
    "        with sr.AudioFile(fichier_audio) as source:\n",
    "            #Utilizar el algortimo de reduccion de ruido\n",
    "            recognizer.adjust_for_ambient_noise(source)\n",
    "            \n",
    "            #Registro del audio\n",
    "            audio = recognizer.record(source)\n",
    "            \n",
    "            #Reconocimiento de la palabra\n",
    "            texte_transcrit = recognizer.recognize_google(audio, language=\"en-us\")\n",
    "            \n",
    "            return texte_transcrit\n",
    "    \n",
    "    except sr.UnknownValueError:\n",
    "        print(\"La reconnaissance de la perole a échoué.\")\n",
    "        return None\n",
    "    except sr.RequestError as e:\n",
    "        print(f\"Erreur lors de la requête à l'API Google: {e}\")\n",
    "        return None\n",
    "\n",
    "#Camino hacia el archivo de audio\n",
    "archivo_audio_path = \"C:/Users/Lenovo/Downloads/Second_Bill_of_Rights_Speech.wav\" \n",
    "\n",
    "transcription = reconnaissance_parole(archivo_audio_path)\n",
    "\n",
    "if transcription: \n",
    "    print(\"Transcription de la parole: \")\n",
    "    print(transcription)\n",
    "else:\n",
    "    print(\"La transcription de la parole a échoué.\")"
   ]
  },
  {
   "cell_type": "code",
   "execution_count": 7,
   "metadata": {},
   "outputs": [
    {
     "ename": "OSError",
     "evalue": "[E050] Can't find model 'en_core_news_sm'. It doesn't seem to be a Python package or a valid path to a data directory.",
     "output_type": "error",
     "traceback": [
      "\u001b[31m---------------------------------------------------------------------------\u001b[39m",
      "\u001b[31mOSError\u001b[39m                                   Traceback (most recent call last)",
      "\u001b[36mCell\u001b[39m\u001b[36m \u001b[39m\u001b[32mIn[7]\u001b[39m\u001b[32m, line 40\u001b[39m\n\u001b[32m     37\u001b[39m transcription = reconnaissance_parole(archivo_audio_path)\n\u001b[32m     39\u001b[39m \u001b[38;5;28;01mif\u001b[39;00m transcription: \n\u001b[32m---> \u001b[39m\u001b[32m40\u001b[39m     nlp = \u001b[43mspacy\u001b[49m\u001b[43m.\u001b[49m\u001b[43mload\u001b[49m\u001b[43m(\u001b[49m\u001b[33;43m\"\u001b[39;49m\u001b[33;43men_core_news_sm\u001b[39;49m\u001b[33;43m\"\u001b[39;49m\u001b[43m)\u001b[49m\n\u001b[32m     41\u001b[39m     doc = nlp(transcription)\n\u001b[32m     43\u001b[39m     \u001b[38;5;28mprint\u001b[39m(\u001b[33m\"\u001b[39m\u001b[33mEntités nomées dans la transcription: \u001b[39m\u001b[33m\"\u001b[39m)\n",
      "\u001b[36mFile \u001b[39m\u001b[32mc:\\Users\\Lenovo\\AppData\\Local\\Programs\\Python\\Python311\\Lib\\site-packages\\spacy\\__init__.py:51\u001b[39m, in \u001b[36mload\u001b[39m\u001b[34m(name, vocab, disable, enable, exclude, config)\u001b[39m\n\u001b[32m     27\u001b[39m \u001b[38;5;28;01mdef\u001b[39;00m\u001b[38;5;250m \u001b[39m\u001b[34mload\u001b[39m(\n\u001b[32m     28\u001b[39m     name: Union[\u001b[38;5;28mstr\u001b[39m, Path],\n\u001b[32m     29\u001b[39m     *,\n\u001b[32m   (...)\u001b[39m\u001b[32m     34\u001b[39m     config: Union[Dict[\u001b[38;5;28mstr\u001b[39m, Any], Config] = util.SimpleFrozenDict(),\n\u001b[32m     35\u001b[39m ) -> Language:\n\u001b[32m     36\u001b[39m \u001b[38;5;250m    \u001b[39m\u001b[33;03m\"\"\"Load a spaCy model from an installed package or a local path.\u001b[39;00m\n\u001b[32m     37\u001b[39m \n\u001b[32m     38\u001b[39m \u001b[33;03m    name (str): Package name or model path.\u001b[39;00m\n\u001b[32m   (...)\u001b[39m\u001b[32m     49\u001b[39m \u001b[33;03m    RETURNS (Language): The loaded nlp object.\u001b[39;00m\n\u001b[32m     50\u001b[39m \u001b[33;03m    \"\"\"\u001b[39;00m\n\u001b[32m---> \u001b[39m\u001b[32m51\u001b[39m     \u001b[38;5;28;01mreturn\u001b[39;00m \u001b[43mutil\u001b[49m\u001b[43m.\u001b[49m\u001b[43mload_model\u001b[49m\u001b[43m(\u001b[49m\n\u001b[32m     52\u001b[39m \u001b[43m        \u001b[49m\u001b[43mname\u001b[49m\u001b[43m,\u001b[49m\n\u001b[32m     53\u001b[39m \u001b[43m        \u001b[49m\u001b[43mvocab\u001b[49m\u001b[43m=\u001b[49m\u001b[43mvocab\u001b[49m\u001b[43m,\u001b[49m\n\u001b[32m     54\u001b[39m \u001b[43m        \u001b[49m\u001b[43mdisable\u001b[49m\u001b[43m=\u001b[49m\u001b[43mdisable\u001b[49m\u001b[43m,\u001b[49m\n\u001b[32m     55\u001b[39m \u001b[43m        \u001b[49m\u001b[43menable\u001b[49m\u001b[43m=\u001b[49m\u001b[43menable\u001b[49m\u001b[43m,\u001b[49m\n\u001b[32m     56\u001b[39m \u001b[43m        \u001b[49m\u001b[43mexclude\u001b[49m\u001b[43m=\u001b[49m\u001b[43mexclude\u001b[49m\u001b[43m,\u001b[49m\n\u001b[32m     57\u001b[39m \u001b[43m        \u001b[49m\u001b[43mconfig\u001b[49m\u001b[43m=\u001b[49m\u001b[43mconfig\u001b[49m\u001b[43m,\u001b[49m\n\u001b[32m     58\u001b[39m \u001b[43m    \u001b[49m\u001b[43m)\u001b[49m\n",
      "\u001b[36mFile \u001b[39m\u001b[32mc:\\Users\\Lenovo\\AppData\\Local\\Programs\\Python\\Python311\\Lib\\site-packages\\spacy\\util.py:472\u001b[39m, in \u001b[36mload_model\u001b[39m\u001b[34m(name, vocab, disable, enable, exclude, config)\u001b[39m\n\u001b[32m    470\u001b[39m \u001b[38;5;28;01mif\u001b[39;00m name \u001b[38;5;129;01min\u001b[39;00m OLD_MODEL_SHORTCUTS:\n\u001b[32m    471\u001b[39m     \u001b[38;5;28;01mraise\u001b[39;00m \u001b[38;5;167;01mIOError\u001b[39;00m(Errors.E941.format(name=name, full=OLD_MODEL_SHORTCUTS[name]))  \u001b[38;5;66;03m# type: ignore[index]\u001b[39;00m\n\u001b[32m--> \u001b[39m\u001b[32m472\u001b[39m \u001b[38;5;28;01mraise\u001b[39;00m \u001b[38;5;167;01mIOError\u001b[39;00m(Errors.E050.format(name=name))\n",
      "\u001b[31mOSError\u001b[39m: [E050] Can't find model 'en_core_news_sm'. It doesn't seem to be a Python package or a valid path to a data directory."
     ]
    }
   ],
   "source": [
    "#Con spacy\n",
    "\n",
    "#En inglés: C:\\Users\\Lenovo\\Downloads\\Second_Bill_of_Rights_Speech.wav\n",
    "import spacy\n",
    "import speech_recognition as sr\n",
    "from nltk.tokenize import word_tokenize\n",
    "from nltk.corpus import stopwords\n",
    "\n",
    "#Funcion de reconocimiento de la palabra\n",
    "def reconnaissance_parole(fichier_audio):\n",
    "    recognizer = sr.Recognizer()\n",
    "    \n",
    "    try:\n",
    "        #Cargar el archivo de audio\n",
    "        with sr.AudioFile(fichier_audio) as source:\n",
    "            #Utilizar el algortimo de reduccion de ruido\n",
    "            recognizer.adjust_for_ambient_noise(source)\n",
    "            \n",
    "            #Registro del audio\n",
    "            audio = recognizer.record(source)\n",
    "            \n",
    "            #Reconocimiento de la palabra\n",
    "            texte_transcrit = recognizer.recognize_google(audio, language=\"en-us\")\n",
    "            \n",
    "            return texte_transcrit\n",
    "    \n",
    "    except sr.UnknownValueError:\n",
    "        print(\"La reconnaissance de la perole a échoué.\")\n",
    "        return None\n",
    "    except sr.RequestError as e:\n",
    "        print(f\"Erreur lors de la requête à l'API Google: {e}\")\n",
    "        return None\n",
    "\n",
    "#Camino hacia el archivo de audio\n",
    "archivo_audio_path = \"C:/Users/Lenovo/Downloads/Second_Bill_of_Rights_Speech.wav\" \n",
    "\n",
    "transcription = reconnaissance_parole(archivo_audio_path)\n",
    "\n",
    "if transcription: \n",
    "    nlp = spacy.load(\"en_core_news_sm\")\n",
    "    doc = nlp(transcription)\n",
    "    \n",
    "    print(\"Entités nomées dans la transcription: \")\n",
    "    for ent in doc.ents:\n",
    "        print(f\"{ent.text} ({ent.label_})\")\n",
    "    \n",
    "    print(\"\\nPhrases dans la transcription: \")\n",
    "    for sentence in doc.sents:\n",
    "        print(sentence.text)\n",
    "else:\n",
    "    print(\"La transcription de la parole a échoué.\")"
   ]
  },
  {
   "cell_type": "markdown",
   "metadata": {},
   "source": [
    "No funciona"
   ]
  }
 ],
 "metadata": {
  "kernelspec": {
   "display_name": "Python 3",
   "language": "python",
   "name": "python3"
  },
  "language_info": {
   "codemirror_mode": {
    "name": "ipython",
    "version": 3
   },
   "file_extension": ".py",
   "mimetype": "text/x-python",
   "name": "python",
   "nbconvert_exporter": "python",
   "pygments_lexer": "ipython3",
   "version": "3.11.9"
  }
 },
 "nbformat": 4,
 "nbformat_minor": 2
}
