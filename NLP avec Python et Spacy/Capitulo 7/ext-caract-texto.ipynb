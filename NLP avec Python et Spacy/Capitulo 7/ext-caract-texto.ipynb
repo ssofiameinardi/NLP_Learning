{
 "cells": [
  {
   "cell_type": "markdown",
   "metadata": {},
   "source": [
    "Bag of words: Consiste en contar la frecuencia con la que aparecen las palabras en un modelo. Ignora el orden de las palabras y representa al texto bajo la forma de un vector de igual dimension al numero total de palabras unicas en el corpus\n",
    "TF-IDF (Term frequency-Inverse document frequency): Evalua la importancia de una palabra basandose no solo en la cantidad de veces que aparece en un documento, sino que su rareza en el conjunto de corpus. Permite identificar palabras claves.\n",
    "NER: Identifica y clasifica las entidades importantes\n",
    "Análisis de sentimientos: Evalua la actitud emocional expresada en un texto, generalmente clasificandolo como positivo, negativo o neutro.\n",
    "Extracción de palabras claves: \n",
    "Embedding de phrases: Representaciones vectoriales de frases en base a las formas vectoriales de cada palabra"
   ]
  }
 ],
 "metadata": {
  "language_info": {
   "name": "python"
  }
 },
 "nbformat": 4,
 "nbformat_minor": 2
}
