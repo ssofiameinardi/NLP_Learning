{
 "cells": [
  {
   "cell_type": "code",
   "execution_count": 1,
   "metadata": {},
   "outputs": [
    {
     "name": "stdout",
     "output_type": "stream",
     "text": [
      "Entités nommées: \n",
      "Barack Obama - PER\n",
      "États-Unis - LOC\n",
      "Paris - LOC\n"
     ]
    }
   ],
   "source": [
    "import spacy\n",
    "\n",
    "nlp = spacy.load('fr_core_news_sm')\n",
    "\n",
    "texte = \"Barack Obama, ancien président des États-Unis, a donné un discours à Paris.\"\n",
    "\n",
    "doc = nlp(texte)\n",
    "\n",
    "print(\"Entités nommées: \")\n",
    "for entite in doc.ents:\n",
    "    print(f\"{entite.text} - {entite.label_}\")"
   ]
  },
  {
   "cell_type": "code",
   "execution_count": 2,
   "metadata": {},
   "outputs": [
    {
     "name": "stderr",
     "output_type": "stream",
     "text": [
      "[nltk_data] Downloading package maxent_ne_chunker to\n",
      "[nltk_data]     C:\\Users\\Lenovo\\AppData\\Roaming\\nltk_data...\n",
      "[nltk_data]   Package maxent_ne_chunker is already up-to-date!\n",
      "[nltk_data] Downloading package words to\n",
      "[nltk_data]     C:\\Users\\Lenovo\\AppData\\Roaming\\nltk_data...\n",
      "[nltk_data]   Package words is already up-to-date!\n"
     ]
    },
    {
     "name": "stdout",
     "output_type": "stream",
     "text": [
      "Entités nommées: \n",
      "PERSON : La\n",
      "('société', 'NNP')\n",
      "('Apple', 'NNP')\n",
      "('Inc.', 'NNP')\n",
      "('a', 'DT')\n",
      "('son', 'NN')\n",
      "('siège', 'NN')\n",
      "('à', 'NNP')\n",
      "('Cupertino', 'NNP')\n",
      "('en', 'FW')\n",
      "PERSON : Californie\n"
     ]
    }
   ],
   "source": [
    "import nltk\n",
    "from nltk import ne_chunk\n",
    "from nltk.tokenize import word_tokenize\n",
    "from nltk.tag import pos_tag\n",
    "\n",
    "nltk.download('maxent_ne_chunker')\n",
    "nltk.download('words')\n",
    "\n",
    "texte = \"La société Apple Inc. a son siège à Cupertino en Californie\"\n",
    "\n",
    "tokens = word_tokenize(texte)\n",
    "tags = pos_tag(tokens)\n",
    "\n",
    "entites_nommees = ne_chunk(tags)\n",
    "\n",
    "print(\"Entités nommées: \")\n",
    "for entite in entites_nommees:\n",
    "    if isinstance(entite, tuple):\n",
    "        print(entite)\n",
    "    else:\n",
    "        print(f\"{entite.label()} : {' '.join([mot for mot,_ in entite])}\")"
   ]
  },
  {
   "cell_type": "markdown",
   "metadata": {},
   "source": [
    "No me devuelve lo solicitado, devuelve los tipos de palabras (DT, NN, etc.)"
   ]
  },
  {
   "cell_type": "markdown",
   "metadata": {},
   "source": [
    "El clasificador Naive Bayes es un algoritmo de clasificación probabilistica basada en el teorema de Bayes, que dice que las caracteristicas utilizadas para la clasificacion son condicionalmente independientes, lo que significa que la presencia o ausencia de una caracteristica particular no influye en la presencia o ausencia de otras.\n",
    "\n",
    "Este algoritmo es particularmente eficaz para los conjuntos de datos de gran dimensión.\n"
   ]
  }
 ],
 "metadata": {
  "kernelspec": {
   "display_name": "Python 3",
   "language": "python",
   "name": "python3"
  },
  "language_info": {
   "codemirror_mode": {
    "name": "ipython",
    "version": 3
   },
   "file_extension": ".py",
   "mimetype": "text/x-python",
   "name": "python",
   "nbconvert_exporter": "python",
   "pygments_lexer": "ipython3",
   "version": "3.11.9"
  }
 },
 "nbformat": 4,
 "nbformat_minor": 2
}
