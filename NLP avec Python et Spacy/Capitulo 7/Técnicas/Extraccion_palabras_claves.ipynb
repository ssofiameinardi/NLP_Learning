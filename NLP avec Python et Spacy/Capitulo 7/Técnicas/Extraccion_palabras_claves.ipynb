{
 "cells": [
  {
   "cell_type": "code",
   "execution_count": null,
   "metadata": {},
   "outputs": [
    {
     "name": "stdout",
     "output_type": "stream",
     "text": [
      "Bi-grammes: \n",
      "['Le changement', 'changement climatique', 'climatique est', 'est un', 'un défi', 'défi mondual', 'mondual .', '. Les', 'Les émissions', 'émissions de', 'de gaz', 'gaz à', 'à effet', 'effet de', 'de serre', 'serre augmentent', 'augmentent chaque', 'chaque année', 'année ,', ', contribuant', 'contribuant à', 'à des', 'des phénomènes', 'phénomènes \\n', '\\n météorologiques', 'météorologiques extrêmes', 'extrêmes .', '. La', 'La communautpe', 'communautpe internationale', 'internationale doit', 'doit agir', 'agir de', 'de manière', 'manière concertée', 'concertée pour', 'pour atténuer', 'atténuer les', 'les effets', 'effets du', 'du réchauffement', 'réchauffement climatique', 'climatique et', 'et préserver', 'préserver \\n', '\\n notre', 'notre planète', 'planète pour', 'pour les', 'les générations', 'générations futures', 'futures .']\n",
      "Tri-grammes: \n",
      "['Le changement climatique', 'changement climatique est', 'climatique est un', 'est un défi', 'un défi mondual', 'défi mondual .', 'mondual . Les', '. Les émissions', 'Les émissions de', 'émissions de gaz', 'de gaz à', 'gaz à effet', 'à effet de', 'effet de serre', 'de serre augmentent', 'serre augmentent chaque', 'augmentent chaque année', 'chaque année ,', 'année , contribuant', ', contribuant à', 'contribuant à des', 'à des phénomènes', 'des phénomènes \\n', 'phénomènes \\n météorologiques', '\\n météorologiques extrêmes', 'météorologiques extrêmes .', 'extrêmes . La', '. La communautpe', 'La communautpe internationale', 'communautpe internationale doit', 'internationale doit agir', 'doit agir de', 'agir de manière', 'de manière concertée', 'manière concertée pour', 'concertée pour atténuer', 'pour atténuer les', 'atténuer les effets', 'les effets du', 'effets du réchauffement', 'du réchauffement climatique', 'réchauffement climatique et', 'climatique et préserver', 'et préserver \\n', 'préserver \\n notre', '\\n notre planète', 'notre planète pour', 'planète pour les', 'pour les générations', 'les générations futures', 'générations futures .']\n"
     ]
    }
   ],
   "source": [
    "import spacy\n",
    "from spacy.matcher import PhraseMatcher\n",
    "from spacy.util import filter_spans\n",
    "\n",
    "nlp = spacy.load(\"fr_core_news_sm\")\n",
    "\n",
    "texte = \"\"\"Le changement climatique est un défi mondual. Les émissions de gaz à effet de serre augmentent chaque année, contribuant à des phénomènes\n",
    "météorologiques extrêmes. La communautpe internationale doit agir de manière concertée pour atténuer les effets du réchauffement climatique et préserver\n",
    "notre planète pour les générations futures.\"\"\"\n",
    "\n",
    "doc = nlp(texte)\n",
    "\n",
    "#Extraccion de bi-gramas y tri-gramas\n",
    "bi_grammes = [f\"{token.text} {doc[token.i + 1].text}\" for token in doc[:-1]]\n",
    "tri_grammes = [f\"{token.text} {doc[token.i + 1].text} {doc[token.i + 2].text}\" for token in doc[:-2]]\n",
    "\n",
    "print(\"Bi-grammes: \")\n",
    "print(bi_grammes)\n",
    "\n",
    "print(\"Tri-grammes: \")\n",
    "print(tri_grammes)\n",
    "\n",
    "\n",
    "#Lo que hace es separar el texto en porciones de dos y tres palabras, siendo, la palabra final de (i), la primer palabra de (i+1)"
   ]
  }
 ],
 "metadata": {
  "kernelspec": {
   "display_name": "Python 3",
   "language": "python",
   "name": "python3"
  },
  "language_info": {
   "codemirror_mode": {
    "name": "ipython",
    "version": 3
   },
   "file_extension": ".py",
   "mimetype": "text/x-python",
   "name": "python",
   "nbconvert_exporter": "python",
   "pygments_lexer": "ipython3",
   "version": "3.11.9"
  }
 },
 "nbformat": 4,
 "nbformat_minor": 2
}
