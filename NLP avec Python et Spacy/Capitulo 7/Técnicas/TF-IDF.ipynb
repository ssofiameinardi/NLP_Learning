{
 "cells": [
  {
   "cell_type": "markdown",
   "metadata": {},
   "source": [
    "Term Frequency--> mide la frecuencia de aparicion de una palabra en un documento especifico. Se calcula como la cantidad_total_de_palabras / cantidad_ocurrencias_de_la_palabra\n",
    "\n",
    "IDF --> Mide la inversa de la frecuencia de un término en un conjunto de corpus. Se mide como log(cantidad_de_documentos_que_contienen_el_termino_en_el_corpus / cantidad_total_de_documentos_en_el_corpus + 1)"
   ]
  },
  {
   "cell_type": "code",
   "execution_count": null,
   "metadata": {},
   "outputs": [],
   "source": [
    "documents = [\"L'analyse de texte est une composante essentielle du traitement du langage naturel.\",\n",
    "             \"Elle permet d'extraire des informations, d'identifier des tendances et de comprendre le contexte sémantique.\",\n",
    "             \"L'analyse de sentiment, la reconnaissance d'entités nommées et l'extraction de mots-clés sont quelques-unes des applications de cette discipline.\"]"
   ]
  }
 ],
 "metadata": {
  "language_info": {
   "name": "python"
  }
 },
 "nbformat": 4,
 "nbformat_minor": 2
}
