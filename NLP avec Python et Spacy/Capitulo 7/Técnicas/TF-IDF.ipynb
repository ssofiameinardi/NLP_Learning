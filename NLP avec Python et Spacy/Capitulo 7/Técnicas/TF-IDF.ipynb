{
 "cells": [
  {
   "cell_type": "markdown",
   "metadata": {},
   "source": [
    "Term Frequency--> mide la frecuencia de aparicion de una palabra en un documento especifico. Se calcula como la cantidad_total_de_palabras / cantidad_ocurrencias_de_la_palabra\n",
    "\n",
    "IDF --> Mide la inversa de la frecuencia de un término en un conjunto de corpus. Se mide como log(cantidad_de_documentos_que_contienen_el_termino_en_el_corpus / cantidad_total_de_documentos_en_el_corpus + 1)"
   ]
  },
  {
   "cell_type": "code",
   "execution_count": 1,
   "metadata": {},
   "outputs": [
    {
     "name": "stdout",
     "output_type": "stream",
     "text": [
      "Termes (features): \n",
      "['analys' 'applic' 'cett' 'clé' 'composant' 'comprendr' 'context'\n",
      " 'disciplin' 'entité' 'essentiel' 'extract' 'extrair' 'identifi' 'inform'\n",
      " 'langag' 'mots' 'naturel' 'nommé' 'permet' 'quelques' 'reconnaiss'\n",
      " 'sentiment' 'sémantiqu' 'tendanc' 'text' 'traitement' 'un']\n",
      "\n",
      "Matriz TF-IDF: \n",
      "[[0.29651988 0.         0.         0.         0.38988801 0.\n",
      "  0.         0.         0.         0.38988801 0.         0.\n",
      "  0.         0.         0.38988801 0.         0.38988801 0.\n",
      "  0.         0.         0.         0.         0.         0.\n",
      "  0.38988801 0.38988801 0.        ]\n",
      " [0.         0.         0.         0.         0.         0.35355339\n",
      "  0.35355339 0.         0.         0.         0.         0.35355339\n",
      "  0.35355339 0.35355339 0.         0.         0.         0.\n",
      "  0.35355339 0.         0.         0.         0.35355339 0.35355339\n",
      "  0.         0.         0.        ]\n",
      " [0.21443775 0.28195987 0.28195987 0.28195987 0.         0.\n",
      "  0.         0.28195987 0.28195987 0.         0.28195987 0.\n",
      "  0.         0.         0.         0.28195987 0.         0.28195987\n",
      "  0.         0.28195987 0.28195987 0.28195987 0.         0.\n",
      "  0.         0.         0.28195987]]\n"
     ]
    }
   ],
   "source": [
    "from sklearn.feature_extraction.text import TfidfVectorizer\n",
    "from nltk.tokenize import word_tokenize\n",
    "from nltk.corpus import stopwords\n",
    "from nltk.stem import PorterStemmer\n",
    "import string\n",
    "\n",
    "documents = [\"L'analyse de texte est une composante essentielle du traitement du langage naturel.\",\n",
    "             \"Elle permet d'extraire des informations, d'identifier des tendances et de comprendre le contexte sémantique.\",\n",
    "             \"L'analyse de sentiment, la reconnaissance d'entités nommées et l'extraction de mots-clés sont quelques-unes des applications de cette discipline.\"]\n",
    "\n",
    "#Funcion de pre-tratamiento para la tokenizacion, supresion de las stopwords y stemming\n",
    "def preprocess(text):\n",
    "    tokens = word_tokenize(text)\n",
    "    tokens = [word for word in tokens if word.lower() not in stopwords.words('french') and word not in string.punctuation]\n",
    "    stemmer = PorterStemmer()\n",
    "    tokens = [stemmer.stem(word) for word in tokens]\n",
    "    return ' '.join(tokens)\n",
    "\n",
    "preprocessed_documents = [preprocess(doc) for doc in documents]\n",
    "\n",
    "#Creacion del vector TF-IDF\n",
    "vectorizer = TfidfVectorizer()\n",
    "tfidf_matrix = vectorizer.fit_transform(preprocessed_documents)\n",
    "\n",
    "features = vectorizer.get_feature_names_out()\n",
    "print(\"Termes (features): \")\n",
    "print(features)\n",
    "\n",
    "print(\"\\nMatriz TF-IDF: \")\n",
    "print(tfidf_matrix.toarray())"
   ]
  }
 ],
 "metadata": {
  "kernelspec": {
   "display_name": "Python 3",
   "language": "python",
   "name": "python3"
  },
  "language_info": {
   "codemirror_mode": {
    "name": "ipython",
    "version": 3
   },
   "file_extension": ".py",
   "mimetype": "text/x-python",
   "name": "python",
   "nbconvert_exporter": "python",
   "pygments_lexer": "ipython3",
   "version": "3.11.9"
  }
 },
 "nbformat": 4,
 "nbformat_minor": 2
}
