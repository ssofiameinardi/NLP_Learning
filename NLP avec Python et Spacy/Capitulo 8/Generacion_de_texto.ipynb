{
 "cells": [
  {
   "cell_type": "markdown",
   "metadata": {},
   "source": [
    "Generación de texto\n",
    "\n",
    "Las cadenas de Markov son modelos probabilisticos que describen que la posibilidad de que ocurra un evento o una secuencia de eventos solo depende\n",
    "de los eventos precedentes\n",
    "La propiedad de Markov estipula que el estado futuro de un sistema depende unicamente de su estado actual y no de los estados anteriores\n",
    "\n",
    "El funcionamiento de las cadenas de Markov en el marco de la generación de texto responde a las siguientes tres etapas:\n",
    "    - Modelización de transiciones: Son utilizadas para la modelizar las transiciones entre las malabras o los simbolos en un corpus de texto. Cada\n",
    "    palabra es considerada como un estado y la probabilidad de transcision hacia una palabra siguiente depende unicamente de la palabra actual\n",
    "    - Calculo de probabilidades: Se calcula las probabilidades de transiciones entre palabras o n-gramas con la ayuda de herramientas probabilisticas\n",
    "    como la frecuencia de ocurrencia,etc\n",
    "    - Generación de texto: El proceso de generacion implica comenzar por una palabra inicial y elegir de manera probabilistica la palabra siguiente\n",
    "    en funcion de probabilidades de transicion calculadas"
   ]
  },
  {
   "cell_type": "code",
   "execution_count": 7,
   "metadata": {},
   "outputs": [
    {
     "name": "stdout",
     "output_type": "stream",
     "text": [
      " ont droit à sa réputation. La famille est l' efforcent, de recevoir et le droit de l' il ne peut être arbitrairement privé, il est présumée innocente jusqu' ils soient nés dans la loi et culturels indispensables à atteindre par des syndicats et que tous les services sociaux nécessaires à la loi. Article 15 Tout individu a droit à la religion, s' une famille est obligatoire. Le mariage ne peut être obligé de changer de toute autre opinion politique ou de la loi et professionnel doit être arbitrairement arrêté,\n"
     ]
    },
    {
     "name": "stderr",
     "output_type": "stream",
     "text": [
      "[nltk_data] Downloading package udhr to\n",
      "[nltk_data]     C:\\Users\\Lenovo\\AppData\\Roaming\\nltk_data...\n",
      "[nltk_data]   Package udhr is already up-to-date!\n"
     ]
    }
   ],
   "source": [
    "def correct(str_in):\n",
    "    str_out = re.sub(r'\\s+([.,;!?\\'\"])', r'\\1', str_in)\n",
    "    return str_out\n",
    "\n",
    "import nltk \n",
    "from nltk import bigrams, FreqDist\n",
    "from nltk.corpus import udhr\n",
    "import random\n",
    "import re\n",
    "\n",
    "nltk.download('udhr')\n",
    "\n",
    "#Cargar el corpus de texto udhr en frances\n",
    "corpus = udhr.words('French_Francais-Latin1')\n",
    "\n",
    "#Crear los bigramas y calcular la frecuencia de ocurrencia\n",
    "bi_grams = list(bigrams(corpus))\n",
    "frequency_dist = nltk.FreqDist(bi_grams)\n",
    "\n",
    "#Generar texto con la ayuda de una cadena de Markov\n",
    "word = random.choice(corpus)\n",
    "output = ''\n",
    "for _ in range(100):\n",
    "    if word != '.' or word != ',' or word != '\\'': \n",
    "        output += ' ' + word\n",
    "    else:\n",
    "        output += word\n",
    "    next_words = [w[1] for w in bi_grams if w[0] == word]\n",
    "    if not next_words:\n",
    "        break\n",
    "    next_word = random.choice(next_words)\n",
    "    word = next_word\n",
    "output = correct(output)\n",
    "print(output)\n"
   ]
  },
  {
   "cell_type": "code",
   "execution_count": 8,
   "metadata": {},
   "outputs": [
    {
     "ename": "KeyboardInterrupt",
     "evalue": "",
     "output_type": "error",
     "traceback": [
      "\u001b[31m---------------------------------------------------------------------------\u001b[39m",
      "\u001b[31mKeyboardInterrupt\u001b[39m                         Traceback (most recent call last)",
      "\u001b[36mCell\u001b[39m\u001b[36m \u001b[39m\u001b[32mIn[8]\u001b[39m\u001b[32m, line 4\u001b[39m\n\u001b[32m      1\u001b[39m \u001b[38;5;28;01mimport\u001b[39;00m\u001b[38;5;250m \u001b[39m\u001b[34;01mspacy\u001b[39;00m\n\u001b[32m      2\u001b[39m \u001b[38;5;28;01mimport\u001b[39;00m\u001b[38;5;250m \u001b[39m\u001b[34;01mrandom\u001b[39;00m\n\u001b[32m----> \u001b[39m\u001b[32m4\u001b[39m \u001b[43mspacy\u001b[49m\u001b[43m.\u001b[49m\u001b[43mcli\u001b[49m\u001b[43m.\u001b[49m\u001b[43mdownload\u001b[49m\u001b[43m(\u001b[49m\u001b[33;43m\"\u001b[39;49m\u001b[33;43mfr_core_news_md\u001b[39;49m\u001b[33;43m\"\u001b[39;49m\u001b[43m)\u001b[49m\n\u001b[32m      5\u001b[39m nlp = spacy.load(\u001b[33m'\u001b[39m\u001b[33mfr_core_news_md\u001b[39m\u001b[33m'\u001b[39m)\n\u001b[32m      7\u001b[39m \u001b[38;5;28;01mdef\u001b[39;00m\u001b[38;5;250m \u001b[39m\u001b[34mgenerer_texte_ameliore_avec_spacy\u001b[39m(phrase):\n",
      "\u001b[36mFile \u001b[39m\u001b[32mc:\\Users\\Lenovo\\AppData\\Local\\Programs\\Python\\Python311\\Lib\\site-packages\\spacy\\cli\\download.py:90\u001b[39m, in \u001b[36mdownload\u001b[39m\u001b[34m(model, direct, sdist, *pip_args)\u001b[39m\n\u001b[32m     86\u001b[39m     version = get_version(model_name, compatibility)\n\u001b[32m     88\u001b[39m filename = get_model_filename(model_name, version, sdist)\n\u001b[32m---> \u001b[39m\u001b[32m90\u001b[39m \u001b[43mdownload_model\u001b[49m\u001b[43m(\u001b[49m\u001b[43mfilename\u001b[49m\u001b[43m,\u001b[49m\u001b[43m \u001b[49m\u001b[43mpip_args\u001b[49m\u001b[43m)\u001b[49m\n\u001b[32m     91\u001b[39m msg.good(\n\u001b[32m     92\u001b[39m     \u001b[33m\"\u001b[39m\u001b[33mDownload and installation successful\u001b[39m\u001b[33m\"\u001b[39m,\n\u001b[32m     93\u001b[39m     \u001b[33mf\u001b[39m\u001b[33m\"\u001b[39m\u001b[33mYou can now load the package via spacy.load(\u001b[39m\u001b[33m'\u001b[39m\u001b[38;5;132;01m{\u001b[39;00mmodel_name\u001b[38;5;132;01m}\u001b[39;00m\u001b[33m'\u001b[39m\u001b[33m)\u001b[39m\u001b[33m\"\u001b[39m,\n\u001b[32m     94\u001b[39m )\n\u001b[32m     95\u001b[39m \u001b[38;5;28;01mif\u001b[39;00m is_in_jupyter():\n",
      "\u001b[36mFile \u001b[39m\u001b[32mc:\\Users\\Lenovo\\AppData\\Local\\Programs\\Python\\Python311\\Lib\\site-packages\\spacy\\cli\\download.py:176\u001b[39m, in \u001b[36mdownload_model\u001b[39m\u001b[34m(filename, user_pip_args)\u001b[39m\n\u001b[32m    174\u001b[39m pip_args = \u001b[38;5;28mlist\u001b[39m(user_pip_args) \u001b[38;5;28;01mif\u001b[39;00m user_pip_args \u001b[38;5;129;01mis\u001b[39;00m \u001b[38;5;129;01mnot\u001b[39;00m \u001b[38;5;28;01mNone\u001b[39;00m \u001b[38;5;28;01melse\u001b[39;00m []\n\u001b[32m    175\u001b[39m cmd = [sys.executable, \u001b[33m\"\u001b[39m\u001b[33m-m\u001b[39m\u001b[33m\"\u001b[39m, \u001b[33m\"\u001b[39m\u001b[33mpip\u001b[39m\u001b[33m\"\u001b[39m, \u001b[33m\"\u001b[39m\u001b[33minstall\u001b[39m\u001b[33m\"\u001b[39m] + pip_args + [download_url]\n\u001b[32m--> \u001b[39m\u001b[32m176\u001b[39m \u001b[43mrun_command\u001b[49m\u001b[43m(\u001b[49m\u001b[43mcmd\u001b[49m\u001b[43m)\u001b[49m\n",
      "\u001b[36mFile \u001b[39m\u001b[32mc:\\Users\\Lenovo\\AppData\\Local\\Programs\\Python\\Python311\\Lib\\site-packages\\spacy\\util.py:1008\u001b[39m, in \u001b[36mrun_command\u001b[39m\u001b[34m(command, stdin, capture)\u001b[39m\n\u001b[32m   1006\u001b[39m     cmd_str = \u001b[33m\"\u001b[39m\u001b[33m \u001b[39m\u001b[33m\"\u001b[39m.join(command)\n\u001b[32m   1007\u001b[39m \u001b[38;5;28;01mtry\u001b[39;00m:\n\u001b[32m-> \u001b[39m\u001b[32m1008\u001b[39m     ret = \u001b[43msubprocess\u001b[49m\u001b[43m.\u001b[49m\u001b[43mrun\u001b[49m\u001b[43m(\u001b[49m\n\u001b[32m   1009\u001b[39m \u001b[43m        \u001b[49m\u001b[43mcmd_list\u001b[49m\u001b[43m,\u001b[49m\n\u001b[32m   1010\u001b[39m \u001b[43m        \u001b[49m\u001b[43menv\u001b[49m\u001b[43m=\u001b[49m\u001b[43mos\u001b[49m\u001b[43m.\u001b[49m\u001b[43menviron\u001b[49m\u001b[43m.\u001b[49m\u001b[43mcopy\u001b[49m\u001b[43m(\u001b[49m\u001b[43m)\u001b[49m\u001b[43m,\u001b[49m\n\u001b[32m   1011\u001b[39m \u001b[43m        \u001b[49m\u001b[38;5;28;43minput\u001b[39;49m\u001b[43m=\u001b[49m\u001b[43mstdin\u001b[49m\u001b[43m,\u001b[49m\n\u001b[32m   1012\u001b[39m \u001b[43m        \u001b[49m\u001b[43mencoding\u001b[49m\u001b[43m=\u001b[49m\u001b[33;43m\"\u001b[39;49m\u001b[33;43mutf8\u001b[39;49m\u001b[33;43m\"\u001b[39;49m\u001b[43m,\u001b[49m\n\u001b[32m   1013\u001b[39m \u001b[43m        \u001b[49m\u001b[43mcheck\u001b[49m\u001b[43m=\u001b[49m\u001b[38;5;28;43;01mFalse\u001b[39;49;00m\u001b[43m,\u001b[49m\n\u001b[32m   1014\u001b[39m \u001b[43m        \u001b[49m\u001b[43mstdout\u001b[49m\u001b[43m=\u001b[49m\u001b[43msubprocess\u001b[49m\u001b[43m.\u001b[49m\u001b[43mPIPE\u001b[49m\u001b[43m \u001b[49m\u001b[38;5;28;43;01mif\u001b[39;49;00m\u001b[43m \u001b[49m\u001b[43mcapture\u001b[49m\u001b[43m \u001b[49m\u001b[38;5;28;43;01melse\u001b[39;49;00m\u001b[43m \u001b[49m\u001b[38;5;28;43;01mNone\u001b[39;49;00m\u001b[43m,\u001b[49m\n\u001b[32m   1015\u001b[39m \u001b[43m        \u001b[49m\u001b[43mstderr\u001b[49m\u001b[43m=\u001b[49m\u001b[43msubprocess\u001b[49m\u001b[43m.\u001b[49m\u001b[43mSTDOUT\u001b[49m\u001b[43m \u001b[49m\u001b[38;5;28;43;01mif\u001b[39;49;00m\u001b[43m \u001b[49m\u001b[43mcapture\u001b[49m\u001b[43m \u001b[49m\u001b[38;5;28;43;01melse\u001b[39;49;00m\u001b[43m \u001b[49m\u001b[38;5;28;43;01mNone\u001b[39;49;00m\u001b[43m,\u001b[49m\n\u001b[32m   1016\u001b[39m \u001b[43m    \u001b[49m\u001b[43m)\u001b[49m\n\u001b[32m   1017\u001b[39m \u001b[38;5;28;01mexcept\u001b[39;00m \u001b[38;5;167;01mFileNotFoundError\u001b[39;00m:\n\u001b[32m   1018\u001b[39m     \u001b[38;5;66;03m# Indicates the *command* wasn't found, it's an error before the command\u001b[39;00m\n\u001b[32m   1019\u001b[39m     \u001b[38;5;66;03m# is run.\u001b[39;00m\n\u001b[32m   1020\u001b[39m     \u001b[38;5;28;01mraise\u001b[39;00m \u001b[38;5;167;01mFileNotFoundError\u001b[39;00m(\n\u001b[32m   1021\u001b[39m         Errors.E970.format(str_command=cmd_str, tool=cmd_list[\u001b[32m0\u001b[39m])\n\u001b[32m   1022\u001b[39m     ) \u001b[38;5;28;01mfrom\u001b[39;00m\u001b[38;5;250m \u001b[39m\u001b[38;5;28;01mNone\u001b[39;00m\n",
      "\u001b[36mFile \u001b[39m\u001b[32mc:\\Users\\Lenovo\\AppData\\Local\\Programs\\Python\\Python311\\Lib\\subprocess.py:550\u001b[39m, in \u001b[36mrun\u001b[39m\u001b[34m(input, capture_output, timeout, check, *popenargs, **kwargs)\u001b[39m\n\u001b[32m    548\u001b[39m \u001b[38;5;28;01mwith\u001b[39;00m Popen(*popenargs, **kwargs) \u001b[38;5;28;01mas\u001b[39;00m process:\n\u001b[32m    549\u001b[39m     \u001b[38;5;28;01mtry\u001b[39;00m:\n\u001b[32m--> \u001b[39m\u001b[32m550\u001b[39m         stdout, stderr = \u001b[43mprocess\u001b[49m\u001b[43m.\u001b[49m\u001b[43mcommunicate\u001b[49m\u001b[43m(\u001b[49m\u001b[38;5;28;43minput\u001b[39;49m\u001b[43m,\u001b[49m\u001b[43m \u001b[49m\u001b[43mtimeout\u001b[49m\u001b[43m=\u001b[49m\u001b[43mtimeout\u001b[49m\u001b[43m)\u001b[49m\n\u001b[32m    551\u001b[39m     \u001b[38;5;28;01mexcept\u001b[39;00m TimeoutExpired \u001b[38;5;28;01mas\u001b[39;00m exc:\n\u001b[32m    552\u001b[39m         process.kill()\n",
      "\u001b[36mFile \u001b[39m\u001b[32mc:\\Users\\Lenovo\\AppData\\Local\\Programs\\Python\\Python311\\Lib\\subprocess.py:1201\u001b[39m, in \u001b[36mPopen.communicate\u001b[39m\u001b[34m(self, input, timeout)\u001b[39m\n\u001b[32m   1199\u001b[39m         stderr = \u001b[38;5;28mself\u001b[39m.stderr.read()\n\u001b[32m   1200\u001b[39m         \u001b[38;5;28mself\u001b[39m.stderr.close()\n\u001b[32m-> \u001b[39m\u001b[32m1201\u001b[39m     \u001b[38;5;28;43mself\u001b[39;49m\u001b[43m.\u001b[49m\u001b[43mwait\u001b[49m\u001b[43m(\u001b[49m\u001b[43m)\u001b[49m\n\u001b[32m   1202\u001b[39m \u001b[38;5;28;01melse\u001b[39;00m:\n\u001b[32m   1203\u001b[39m     \u001b[38;5;28;01mif\u001b[39;00m timeout \u001b[38;5;129;01mis\u001b[39;00m \u001b[38;5;129;01mnot\u001b[39;00m \u001b[38;5;28;01mNone\u001b[39;00m:\n",
      "\u001b[36mFile \u001b[39m\u001b[32mc:\\Users\\Lenovo\\AppData\\Local\\Programs\\Python\\Python311\\Lib\\subprocess.py:1264\u001b[39m, in \u001b[36mPopen.wait\u001b[39m\u001b[34m(self, timeout)\u001b[39m\n\u001b[32m   1262\u001b[39m     endtime = _time() + timeout\n\u001b[32m   1263\u001b[39m \u001b[38;5;28;01mtry\u001b[39;00m:\n\u001b[32m-> \u001b[39m\u001b[32m1264\u001b[39m     \u001b[38;5;28;01mreturn\u001b[39;00m \u001b[38;5;28;43mself\u001b[39;49m\u001b[43m.\u001b[49m\u001b[43m_wait\u001b[49m\u001b[43m(\u001b[49m\u001b[43mtimeout\u001b[49m\u001b[43m=\u001b[49m\u001b[43mtimeout\u001b[49m\u001b[43m)\u001b[49m\n\u001b[32m   1265\u001b[39m \u001b[38;5;28;01mexcept\u001b[39;00m \u001b[38;5;167;01mKeyboardInterrupt\u001b[39;00m:\n\u001b[32m   1266\u001b[39m     \u001b[38;5;66;03m# https://bugs.python.org/issue25942\u001b[39;00m\n\u001b[32m   1267\u001b[39m     \u001b[38;5;66;03m# The first keyboard interrupt waits briefly for the child to\u001b[39;00m\n\u001b[32m   1268\u001b[39m     \u001b[38;5;66;03m# exit under the common assumption that it also received the ^C\u001b[39;00m\n\u001b[32m   1269\u001b[39m     \u001b[38;5;66;03m# generated SIGINT and will exit rapidly.\u001b[39;00m\n\u001b[32m   1270\u001b[39m     \u001b[38;5;28;01mif\u001b[39;00m timeout \u001b[38;5;129;01mis\u001b[39;00m \u001b[38;5;129;01mnot\u001b[39;00m \u001b[38;5;28;01mNone\u001b[39;00m:\n",
      "\u001b[36mFile \u001b[39m\u001b[32mc:\\Users\\Lenovo\\AppData\\Local\\Programs\\Python\\Python311\\Lib\\subprocess.py:1590\u001b[39m, in \u001b[36mPopen._wait\u001b[39m\u001b[34m(self, timeout)\u001b[39m\n\u001b[32m   1587\u001b[39m     timeout_millis = \u001b[38;5;28mint\u001b[39m(timeout * \u001b[32m1000\u001b[39m)\n\u001b[32m   1588\u001b[39m \u001b[38;5;28;01mif\u001b[39;00m \u001b[38;5;28mself\u001b[39m.returncode \u001b[38;5;129;01mis\u001b[39;00m \u001b[38;5;28;01mNone\u001b[39;00m:\n\u001b[32m   1589\u001b[39m     \u001b[38;5;66;03m# API note: Returns immediately if timeout_millis == 0.\u001b[39;00m\n\u001b[32m-> \u001b[39m\u001b[32m1590\u001b[39m     result = \u001b[43m_winapi\u001b[49m\u001b[43m.\u001b[49m\u001b[43mWaitForSingleObject\u001b[49m\u001b[43m(\u001b[49m\u001b[38;5;28;43mself\u001b[39;49m\u001b[43m.\u001b[49m\u001b[43m_handle\u001b[49m\u001b[43m,\u001b[49m\n\u001b[32m   1591\u001b[39m \u001b[43m                                         \u001b[49m\u001b[43mtimeout_millis\u001b[49m\u001b[43m)\u001b[49m\n\u001b[32m   1592\u001b[39m     \u001b[38;5;28;01mif\u001b[39;00m result == _winapi.WAIT_TIMEOUT:\n\u001b[32m   1593\u001b[39m         \u001b[38;5;28;01mraise\u001b[39;00m TimeoutExpired(\u001b[38;5;28mself\u001b[39m.args, timeout)\n",
      "\u001b[31mKeyboardInterrupt\u001b[39m: "
     ]
    }
   ],
   "source": [
    "import spacy\n",
    "import random\n",
    "\n",
    "spacy.cli.download(\"fr_core_news_md\")\n",
    "nlp = spacy.load('fr_core_news_md')\n",
    "\n",
    "def generer_texte_ameliore_avec_spacy(phrase):\n",
    "    doc = nlp(phrase)\n",
    "    \n",
    "    #Extraer las entidades sintaxicas\n",
    "    entites_syntaxiques = [(token.text, token.dep_, token.head.text) for token in doc]\n",
    "    \n",
    "    #Filtrar las entidades\n",
    "    entites_syntaxiques_filtrees = [entite for entite in entites_syntaxiques if entite[1] not in ['cc', 'det']]\n",
    "    \n",
    "    random.shuffle(entites_syntaxiques_filtrees)\n",
    "    \n",
    "    #Recrear el texto conservando las dependencias sintaxicas\n",
    "    texte_genere = ' '.join([entite[0] for entite in entites_syntaxiques_filtrees])\n",
    "    \n",
    "    return texte_genere\n",
    "\n",
    "test = '''Pâle, assez grand, assez maigre, aux allures de myope qui semble timide, imberbe, les joues un peu creuses, et lisses comme toute chair où la barbe\n",
    "n'a point germé, avec un air rêveur et doux, presque maladif, Paul Bourget, que ses remarquables articles d'analyse littéraire et philosophique ont fait depuis\n",
    "longtemps connaître des lettrés, est un des jeunes gens en qui se fonde l'espoir de la littérature...'''\n",
    "#La idea es poner un texto bien largo\n",
    "\n",
    "texte_genere_ameliore = generer_texte_ameliore_avec_spacy(test)\n",
    "\n",
    "print(texte_genere_ameliore)"
   ]
  }
 ],
 "metadata": {
  "kernelspec": {
   "display_name": "Python 3",
   "language": "python",
   "name": "python3"
  },
  "language_info": {
   "codemirror_mode": {
    "name": "ipython",
    "version": 3
   },
   "file_extension": ".py",
   "mimetype": "text/x-python",
   "name": "python",
   "nbconvert_exporter": "python",
   "pygments_lexer": "ipython3",
   "version": "3.11.9"
  }
 },
 "nbformat": 4,
 "nbformat_minor": 2
}
