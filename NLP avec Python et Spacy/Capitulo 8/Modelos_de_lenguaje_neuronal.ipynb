{
 "cells": [
  {
   "cell_type": "markdown",
   "metadata": {},
   "source": [
    "Los modelos de lenguaje neuronal son arquitecturas de redes neuronales profundas que son capaces de modelizar la probabilidad de una secuancia de palabras\n",
    "en un lenguaje dado."
   ]
  },
  {
   "cell_type": "code",
   "execution_count": 1,
   "metadata": {},
   "outputs": [
    {
     "name": "stderr",
     "output_type": "stream",
     "text": [
      "c:\\Users\\Lenovo\\AppData\\Local\\Programs\\Python\\Python311\\Lib\\site-packages\\tqdm\\auto.py:21: TqdmWarning: IProgress not found. Please update jupyter and ipywidgets. See https://ipywidgets.readthedocs.io/en/stable/user_install.html\n",
      "  from .autonotebook import tqdm as notebook_tqdm\n",
      "c:\\Users\\Lenovo\\AppData\\Local\\Programs\\Python\\Python311\\Lib\\site-packages\\huggingface_hub\\file_download.py:142: UserWarning: `huggingface_hub` cache-system uses symlinks by default to efficiently store duplicated files but your machine does not support them in C:\\Users\\Lenovo\\.cache\\huggingface\\hub\\models--antoiloui--belgpt2. Caching files will still work but in a degraded version that might require more space on your disk. This warning can be disabled by setting the `HF_HUB_DISABLE_SYMLINKS_WARNING` environment variable. For more details, see https://huggingface.co/docs/huggingface_hub/how-to-cache#limitations.\n",
      "To support symlinks on Windows, you either need to activate Developer Mode or to run Python as an administrator. In order to activate developer mode, see this article: https://docs.microsoft.com/en-us/windows/apps/get-started/enable-your-device-for-development\n",
      "  warnings.warn(message)\n",
      "c:\\Users\\Lenovo\\AppData\\Local\\Programs\\Python\\Python311\\Lib\\site-packages\\transformers\\generation\\configuration_utils.py:629: UserWarning: `do_sample` is set to `False`. However, `temperature` is set to `0.7` -- this flag is only used in sample-based generation modes. You should set `do_sample=True` or unset `temperature`.\n",
      "  warnings.warn(\n",
      "c:\\Users\\Lenovo\\AppData\\Local\\Programs\\Python\\Python311\\Lib\\site-packages\\transformers\\generation\\configuration_utils.py:634: UserWarning: `do_sample` is set to `False`. However, `top_p` is set to `0.95` -- this flag is only used in sample-based generation modes. You should set `do_sample=True` or unset `top_p`.\n",
      "  warnings.warn(\n",
      "The attention mask and the pad token id were not set. As a consequence, you may observe unexpected behavior. Please pass your input's `attention_mask` to obtain reliable results.\n",
      "Setting `pad_token_id` to `eos_token_id`:50256 for open-end generation.\n",
      "The attention mask is not set and cannot be inferred from input because pad token is same as eos token. As a consequence, you may observe unexpected behavior. Please pass your input's `attention_mask` to obtain reliable results.\n"
     ]
    },
    {
     "name": "stdout",
     "output_type": "stream",
     "text": [
      "Phrase test:  Les sanglots longs des violons de l'automne, blessent mon cœur d'une langueur monotone.\n",
      "\n",
      "Texte généré avec GPT-2 francais:  Les sanglots longs des violons de l'automne, blessent mon cœur d'une langueur monotone.Je n' ai pas de mots pour exprimer ce que je ressens , je ne sais pas ce qui m' est arrivé , mais je sais qu' il y a quelque chose qui se passe dans ma tête , et que j' en ai conscience . Il s' agit de la plus forte hausse depuis le mois de janvier . La maison est située dans un quartier calme , à proximité de\n"
     ]
    }
   ],
   "source": [
    "from transformers import GPT2LMHeadModel, GPT2Tokenizer\n",
    "\n",
    "tokenizer_fr = GPT2Tokenizer.from_pretrained('antoiloui/belgpt2')\n",
    "model_fr = GPT2LMHeadModel.from_pretrained('antoiloui/belgpt2')\n",
    "\n",
    "def generer_texte_avec_gpt2_fr(phrase):\n",
    "    tokens_fr = tokenizer_fr.encode(phrase, return_tensors = 'pt')\n",
    "    \n",
    "    sortie_fr = model_fr.generate(tokens_fr, max_length=100, num_beams=5, no_repeat_ngram_size=2, top_k=50, top_p=0.95, temperature = 0.7)\n",
    "    \n",
    "    texte_genere_fr = tokenizer_fr.decode(sortie_fr[0], skip_special_tokens=True)\n",
    "    return texte_genere_fr\n",
    "\n",
    "phrase_test = \"Les sanglots longs des violons de l'automne, blessent mon cœur d'une langueur monotone.\"\n",
    "\n",
    "text_genere_gpt2_fr = generer_texte_avec_gpt2_fr(phrase_test)\n",
    "\n",
    "print(\"Phrase test: \", phrase_test)\n",
    "print(\"\\nTexte généré avec GPT-2 francais: \", text_genere_gpt2_fr)"
   ]
  }
 ],
 "metadata": {
  "kernelspec": {
   "display_name": "Python 3",
   "language": "python",
   "name": "python3"
  },
  "language_info": {
   "codemirror_mode": {
    "name": "ipython",
    "version": 3
   },
   "file_extension": ".py",
   "mimetype": "text/x-python",
   "name": "python",
   "nbconvert_exporter": "python",
   "pygments_lexer": "ipython3",
   "version": "3.11.9"
  }
 },
 "nbformat": 4,
 "nbformat_minor": 2
}
