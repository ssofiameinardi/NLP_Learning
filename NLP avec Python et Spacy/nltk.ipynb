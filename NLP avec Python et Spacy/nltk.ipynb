{
 "cells": [
  {
   "cell_type": "code",
   "execution_count": 1,
   "metadata": {},
   "outputs": [
    {
     "name": "stdout",
     "output_type": "stream",
     "text": [
      "showing info https://raw.githubusercontent.com/nltk/nltk_data/gh-pages/index.xml\n"
     ]
    },
    {
     "data": {
      "text/plain": [
       "True"
      ]
     },
     "execution_count": 1,
     "metadata": {},
     "output_type": "execute_result"
    }
   ],
   "source": [
    "import nltk\n",
    "nltk.download()"
   ]
  },
  {
   "cell_type": "code",
   "execution_count": 2,
   "metadata": {},
   "outputs": [
    {
     "name": "stderr",
     "output_type": "stream",
     "text": [
      "[nltk_data] Downloading package punkt to\n",
      "[nltk_data]     C:\\Users\\Lenovo\\AppData\\Roaming\\nltk_data...\n",
      "[nltk_data]   Unzipping tokenizers\\punkt.zip.\n",
      "[nltk_data] Downloading package wordnet to\n",
      "[nltk_data]     C:\\Users\\Lenovo\\AppData\\Roaming\\nltk_data...\n",
      "[nltk_data] Downloading package stopwords to\n",
      "[nltk_data]     C:\\Users\\Lenovo\\AppData\\Roaming\\nltk_data...\n",
      "[nltk_data]   Unzipping corpora\\stopwords.zip.\n"
     ]
    },
    {
     "data": {
      "text/plain": [
       "True"
      ]
     },
     "execution_count": 2,
     "metadata": {},
     "output_type": "execute_result"
    }
   ],
   "source": [
    "import nltk \n",
    "nltk.download('punkt')\n",
    "nltk.download('wordnet')\n",
    "nltk.download('stopwords')"
   ]
  },
  {
   "cell_type": "code",
   "execution_count": null,
   "metadata": {},
   "outputs": [],
   "source": [
    "#NO ME FUNCIONA\n",
    "\n",
    "import nltk\n",
    "from nltk.tokenize import word_tokenize\n",
    "\n",
    "nltk.download('punkt')\n",
    "text = \"Qui sait si le coup de vent qui abat un toit ne dilate pas tout un forêt? Pourquoi le volcan qui bouleverse un ville ne féconderait-il pas un province? Voilà encore de notre orgueil: nous nous faisons le centre de la nature, le but de la création et sa raison suprême. Tout ce que nous voyons ne pas s'y conformer nous étonne, tout ce qui nous est opposé nous exaspère.\"\n",
    "tokens = word_tokenize(text, language='french')\n",
    "print(tokens)"
   ]
  },
  {
   "cell_type": "code",
   "execution_count": null,
   "metadata": {},
   "outputs": [],
   "source": [
    "from nltk.corpus import stopwords\n",
    "\n",
    "stop_words = set(stopwords.words('french'))\n",
    "words = word_tokenize(text)\n",
    "filtered_words = [word for word in words if word.lower() not it stop_words]\n",
    "print(filtered_words)\n"
   ]
  },
  {
   "cell_type": "code",
   "execution_count": null,
   "metadata": {},
   "outputs": [],
   "source": [
    "from nltk.tokenize import sent_tokenize, word_tokenize\n",
    "from nltk.stem import SnowballStemmer\n",
    "\n",
    "#Tokenization des phrases et des mots\n",
    "sentences = sent_tokenize(text)\n",
    "stemmer = SnowballStemmer(\"french\")  #Elijo el stemmer para francés\n",
    "\n",
    "#Stemming para cada palabra de cada frase\n",
    "lemmatized_sentences = []\n",
    "for sentence in sentences:\n",
    "    words=word_tokenize(sentence)\n",
    "    lemmatized_words = [stemmer.stem(word) for word in words]\n",
    "    lemmatized_sentence = ''.join(lemmatized_words)\n",
    "    lemmatized_sentences.append(lemmatized_sentence)\n",
    "    \n",
    "#Affichage des phrases lemmatisées\n",
    "for lemmatized_sentence in lemmatized_sentences:\n",
    "    print(lemmatized_sentence)"
   ]
  }
 ],
 "metadata": {
  "kernelspec": {
   "display_name": "Python 3",
   "language": "python",
   "name": "python3"
  },
  "language_info": {
   "codemirror_mode": {
    "name": "ipython",
    "version": 3
   },
   "file_extension": ".py",
   "mimetype": "text/x-python",
   "name": "python",
   "nbconvert_exporter": "python",
   "pygments_lexer": "ipython3",
   "version": "3.11.9"
  }
 },
 "nbformat": 4,
 "nbformat_minor": 2
}
