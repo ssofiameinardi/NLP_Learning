{
 "cells": [
  {
   "cell_type": "code",
   "execution_count": 7,
   "metadata": {},
   "outputs": [
    {
     "name": "stdout",
     "output_type": "stream",
     "text": [
      "showing info https://raw.githubusercontent.com/nltk/nltk_data/gh-pages/index.xml\n",
      "Phrase originale: The cats are jumping over the fences\n",
      "Phrase racinisée: the cat are jump over the fenc\n"
     ]
    }
   ],
   "source": [
    "import nltk\n",
    "from nltk.stem import PorterStemmer\n",
    "from nltk.tokenize import word_tokenize\n",
    "\n",
    "nltk.download()\n",
    "\n",
    "stemmer = PorterStemmer()\n",
    "\n",
    "sentence = \"The cats are jumping over the fences\"\n",
    "\n",
    "tokens = word_tokenize(sentence)\n",
    "\n",
    "stems = [stemmer.stem(word) for word in tokens]\n",
    "\n",
    "print(f\"Phrase originale: {sentence}\")\n",
    "print(f\"Phrase racinisée: {' '.join(stems)}\")"
   ]
  },
  {
   "cell_type": "markdown",
   "metadata": {},
   "source": [
    "tira error"
   ]
  },
  {
   "cell_type": "code",
   "execution_count": 5,
   "metadata": {},
   "outputs": [
    {
     "name": "stdout",
     "output_type": "stream",
     "text": [
      "Phrase originale: The quick brown foxes are jumping over the lazy dogs\n",
      "Tokens après lemmatisation et racinisation: the quick brown fox be jump over the lazy dog\n"
     ]
    }
   ],
   "source": [
    "import spacy\n",
    "nlp = spacy.load('en_core_web_sm')\n",
    "\n",
    "sentence = \"The quick brown foxes are jumping over the lazy dogs\"\n",
    "processed_tokens = [token.lemma_.lower() for token in nlp(sentence)]\n",
    "\n",
    "print(f\"Phrase originale: {sentence}\")\n",
    "print(f\"Tokens après lemmatisation et racinisation: {' '.join(processed_tokens)}\")"
   ]
  },
  {
   "cell_type": "code",
   "execution_count": 9,
   "metadata": {},
   "outputs": [
    {
     "name": "stdout",
     "output_type": "stream",
     "text": [
      "Texte original: The quick brown foxes are jumping over the lazy dogs.\n",
      "The foxes were being observed by scientists.\n",
      "Meanwhile, the lazy dogs were sleeping peacefully.\n",
      "Tokens après lemmatisation et racinisation: the quick brown fox be jump over the lazy dog . \n",
      " the fox be be observe by scientist . \n",
      " meanwhile , the lazy dog be sleep peacefully .\n"
     ]
    }
   ],
   "source": [
    "import spacy\n",
    "nlp = spacy.load('en_core_web_sm')\n",
    "\n",
    "text = \"\"\"The quick brown foxes are jumping over the lazy dogs.\n",
    "The foxes were being observed by scientists.\n",
    "Meanwhile, the lazy dogs were sleeping peacefully.\"\"\"\n",
    "\n",
    "processed_tokens = [token.lemma_.lower() for token in nlp(text)]\n",
    "print(f\"Texte original: {text}\")\n",
    "print(f\"Tokens après lemmatisation et racinisation: {' '.join(processed_tokens)}\")\n"
   ]
  }
 ],
 "metadata": {
  "kernelspec": {
   "display_name": "Python 3",
   "language": "python",
   "name": "python3"
  },
  "language_info": {
   "codemirror_mode": {
    "name": "ipython",
    "version": 3
   },
   "file_extension": ".py",
   "mimetype": "text/x-python",
   "name": "python",
   "nbconvert_exporter": "python",
   "pygments_lexer": "ipython3",
   "version": "3.11.9"
  }
 },
 "nbformat": 4,
 "nbformat_minor": 2
}
