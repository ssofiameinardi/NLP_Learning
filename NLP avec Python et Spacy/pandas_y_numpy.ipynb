{
 "cells": [
  {
   "cell_type": "code",
   "execution_count": 3,
   "metadata": {},
   "outputs": [],
   "source": [
    "import numpy as np\n",
    "import pandas as pd"
   ]
  },
  {
   "cell_type": "code",
   "execution_count": 4,
   "metadata": {},
   "outputs": [],
   "source": [
    "ventes_livre_A = np.array([100,150,120,180,90,200])\n",
    "ventes_livre_B = np.array([80,110,90,100,120,160])"
   ]
  },
  {
   "cell_type": "code",
   "execution_count": 5,
   "metadata": {},
   "outputs": [
    {
     "name": "stdout",
     "output_type": "stream",
     "text": [
      "840\n",
      "660\n"
     ]
    }
   ],
   "source": [
    "total_vente_livre_A = np.sum(ventes_livre_A)\n",
    "total_vente_livre_B = np.sum(ventes_livre_B)\n",
    "print(total_vente_livre_A)\n",
    "print(total_vente_livre_B)"
   ]
  },
  {
   "cell_type": "code",
   "execution_count": 6,
   "metadata": {},
   "outputs": [
    {
     "name": "stdout",
     "output_type": "stream",
     "text": [
      "{'Mois': ['Mois 01', 'Mois 02', 'Mois 03', 'Mois 04', 'Mois 05', 'Mois 06'], 'Ventes produit A': array([100, 150, 120, 180,  90, 200]), 'Ventes produit B': array([ 80, 110,  90, 100, 120, 160])}\n"
     ]
    }
   ],
   "source": [
    "data = {\n",
    "    'Mois': ['Mois 01', 'Mois 02', 'Mois 03', 'Mois 04', 'Mois 05', 'Mois 06'],\n",
    "    'Ventes produit A': ventes_livre_A,\n",
    "    'Ventes produit B': ventes_livre_B\n",
    "}\n",
    "print(data)"
   ]
  },
  {
   "cell_type": "code",
   "execution_count": 7,
   "metadata": {},
   "outputs": [
    {
     "name": "stdout",
     "output_type": "stream",
     "text": [
      "      Mois  Ventes produit A  Ventes produit B\n",
      "0  Mois 01               100                80\n",
      "1  Mois 02               150               110\n",
      "2  Mois 03               120                90\n",
      "3  Mois 04               180               100\n",
      "4  Mois 05                90               120\n",
      "5  Mois 06               200               160\n"
     ]
    }
   ],
   "source": [
    "df_vente_livres = pd.DataFrame(data)\n",
    "print(df_vente_livres)\n"
   ]
  },
  {
   "cell_type": "code",
   "execution_count": 8,
   "metadata": {},
   "outputs": [
    {
     "name": "stdout",
     "output_type": "stream",
     "text": [
      "      Mois  Ventes produit A  Ventes produit B\n",
      "0  Mois 01               100                80\n",
      "1  Mois 02               150               110\n",
      "2  Mois 03               120                90\n",
      "3  Mois 04               180               100\n",
      "4  Mois 05                90               120\n",
      "<class 'pandas.core.frame.DataFrame'>\n",
      "RangeIndex: 6 entries, 0 to 5\n",
      "Data columns (total 3 columns):\n",
      " #   Column            Non-Null Count  Dtype \n",
      "---  ------            --------------  ----- \n",
      " 0   Mois              6 non-null      object\n",
      " 1   Ventes produit A  6 non-null      int64 \n",
      " 2   Ventes produit B  6 non-null      int64 \n",
      "dtypes: int64(2), object(1)\n",
      "memory usage: 276.0+ bytes\n",
      "None\n",
      "       Ventes produit A  Ventes produit B\n",
      "count          6.000000          6.000000\n",
      "mean         140.000000        110.000000\n",
      "std           44.271887         28.284271\n",
      "min           90.000000         80.000000\n",
      "25%          105.000000         92.500000\n",
      "50%          135.000000        105.000000\n",
      "75%          172.500000        117.500000\n",
      "max          200.000000        160.000000\n"
     ]
    }
   ],
   "source": [
    "#Afficher les premi}eres lignes du dataframe\n",
    "print(df_vente_livres.head())\n",
    "\n",
    "#Afficher les informations sur le dataframe\n",
    "print(df_vente_livres.info())\n",
    "\n",
    "#Afficher des statitiques descriptives sur les colonnes numériques\n",
    "print(df_vente_livres.describe())\n"
   ]
  },
  {
   "cell_type": "code",
   "execution_count": 10,
   "metadata": {},
   "outputs": [
    {
     "name": "stdout",
     "output_type": "stream",
     "text": [
      "0    100\n",
      "1    150\n",
      "2    120\n",
      "3    180\n",
      "4     90\n",
      "5    200\n",
      "Name: Ventes produit A, dtype: int64\n",
      "150\n"
     ]
    }
   ],
   "source": [
    "#Accéder a une colonne spécifique\n",
    "ventes_A = df_vente_livres['Ventes produit A']\n",
    "print(ventes_A)\n",
    "\n",
    "#Accéder a une cellule spécifique du dataframe\n",
    "vente_mois2_A = df_vente_livres.loc[1, 'Ventes produit A']\n",
    "print(vente_mois2_A)"
   ]
  },
  {
   "cell_type": "code",
   "execution_count": 11,
   "metadata": {},
   "outputs": [
    {
     "name": "stdout",
     "output_type": "stream",
     "text": [
      "      Mois  Ventes produit A  Ventes produit B\n",
      "1  Mois 02               150               110\n",
      "2  Mois 03               120                90\n",
      "3  Mois 04               180               100\n",
      "5  Mois 06               200               160\n"
     ]
    }
   ],
   "source": [
    "#Filtrer les ventes du livre A supérieures à 100\n",
    "ventes_A_sup_100 = df_vente_livres[df_vente_livres['Ventes produit A'] > 100]\n",
    "print(ventes_A_sup_100)"
   ]
  },
  {
   "cell_type": "code",
   "execution_count": 12,
   "metadata": {},
   "outputs": [
    {
     "name": "stdout",
     "output_type": "stream",
     "text": [
      "      Mois  Ventes produit A  Ventes produit B  Ventes totales\n",
      "0  Mois 01               100                80             180\n",
      "1  Mois 02               150               110             260\n",
      "2  Mois 03               120                90             210\n",
      "3  Mois 04               180               100             280\n",
      "4  Mois 05                90               120             210\n"
     ]
    }
   ],
   "source": [
    "#Calculer la somme des ventes totales pour chaque mois\n",
    "df_vente_livres['Ventes totales'] = df_vente_livres['Ventes produit A'] + df_vente_livres['Ventes produit B']\n",
    "print(df_vente_livres.head())"
   ]
  },
  {
   "cell_type": "code",
   "execution_count": 13,
   "metadata": {},
   "outputs": [
    {
     "name": "stdout",
     "output_type": "stream",
     "text": [
      "      Mois  Ventes produit A  Ventes produit B  Ventes totales\n",
      "4  Mois 05                90               120             210\n",
      "0  Mois 01               100                80             180\n",
      "2  Mois 03               120                90             210\n",
      "1  Mois 02               150               110             260\n",
      "3  Mois 04               180               100             280\n",
      "5  Mois 06               200               160             360\n"
     ]
    }
   ],
   "source": [
    "#Trier le dataframe par ordre croissant des ventes du livre A\n",
    "df_ventes_tri = df_vente_livres.sort_values(by='Ventes produit A', ascending=True)\n",
    "print(df_ventes_tri)"
   ]
  }
 ],
 "metadata": {
  "kernelspec": {
   "display_name": "Python 3",
   "language": "python",
   "name": "python3"
  },
  "language_info": {
   "codemirror_mode": {
    "name": "ipython",
    "version": 3
   },
   "file_extension": ".py",
   "mimetype": "text/x-python",
   "name": "python",
   "nbconvert_exporter": "python",
   "pygments_lexer": "ipython3",
   "version": "3.11.9"
  }
 },
 "nbformat": 4,
 "nbformat_minor": 2
}
