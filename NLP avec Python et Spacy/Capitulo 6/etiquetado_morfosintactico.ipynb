{
 "cells": [
  {
   "cell_type": "code",
   "execution_count": null,
   "metadata": {},
   "outputs": [
    {
     "name": "stderr",
     "output_type": "stream",
     "text": [
      "[nltk_data] Downloading package punkt to\n",
      "[nltk_data]     C:\\Users\\Lenovo\\AppData\\Roaming\\nltk_data...\n",
      "[nltk_data]   Package punkt is already up-to-date!\n",
      "[nltk_data] Downloading package averaged_perceptron_tagger to\n",
      "[nltk_data]     C:\\Users\\Lenovo\\AppData\\Roaming\\nltk_data...\n",
      "[nltk_data]   Package averaged_perceptron_tagger is already up-to-\n",
      "[nltk_data]       date!\n"
     ]
    },
    {
     "name": "stdout",
     "output_type": "stream",
     "text": [
      "Phrase originale: Le chat noir dort paisiblement.\n",
      "Étiquettes morphosyntaxiques: [('Le', 'NNP'), ('chat', 'WP'), ('noir', 'VBD'), ('dort', 'NN'), ('paisiblement', 'NN'), ('.', '.')]\n"
     ]
    }
   ],
   "source": [
    "import nltk\n",
    "from nltk.tokenize import word_tokenize\n",
    "nltk.download('punkt')\n",
    "nltk.download('averaged_perceptron_tagger')\n",
    "\n",
    "sentence = \"Le chat noir dort paisiblement.\"\n",
    "tokens = word_tokenize(sentence)\n",
    "\n",
    "pos_tags = nltk.pos_tag(tokens)\n",
    "print(f\"Phrase originale: {sentence}\")\n",
    "print(f\"Étiquettes morphosyntaxiques: {pos_tags}\")\n"
   ]
  },
  {
   "cell_type": "code",
   "execution_count": 2,
   "metadata": {},
   "outputs": [
    {
     "name": "stdout",
     "output_type": "stream",
     "text": [
      "Paragraphe originale: La bibliothèque NLTK offre une gamme complète d'outils pour le traitement du langage naturel. Ses fonctionnalités comprennent l'analyse syntaxique, l'étiquetage morphosyntaxique, et bien plus encore\n",
      "Étiquettes morphosyntaxiques: [('La', 'NNP'), ('bibliothèque', 'NN'), ('NLTK', 'NNP'), ('offre', 'VBZ'), ('une', 'JJ'), ('gamme', 'NNS'), ('complète', 'VBP'), (\"d'outils\", 'NNS'), ('pour', 'VBP'), ('le', 'JJ'), ('traitement', 'NN'), ('du', 'NN'), ('langage', 'NN'), ('naturel', 'NN'), ('.', '.'), ('Ses', 'NNP'), ('fonctionnalités', 'JJ'), ('comprennent', 'NN'), (\"l'analyse\", 'NN'), ('syntaxique', 'NN'), (',', ','), (\"l'étiquetage\", 'NN'), ('morphosyntaxique', 'NN'), (',', ','), ('et', 'FW'), ('bien', 'NN'), ('plus', 'CC'), ('encore', 'NN')]\n"
     ]
    }
   ],
   "source": [
    "# La biblioteca NLTK ofrece muchas herramientas útiles para el NLP, cuyas funcionalidades comprenden el análisis sintáctico, el etiquetado morfosintáctico,etc\n",
    "\n",
    "paragraph = \"La bibliothèque NLTK offre une gamme complète d'outils pour le traitement du langage naturel. Ses fonctionnalités comprennent l'analyse syntaxique, l'étiquetage morphosyntaxique, et bien plus encore\"\n",
    "\n",
    "tokens_paragraph = word_tokenize(paragraph)\n",
    "\n",
    "pos_tags_paragraph = nltk.pos_tag(tokens_paragraph)\n",
    "\n",
    "print(f\"Paragraphe originale: {paragraph}\")\n",
    "print(f\"Étiquettes morphosyntaxiques: {pos_tags_paragraph}\")"
   ]
  },
  {
   "cell_type": "markdown",
   "metadata": {},
   "source": [
    "PRINCIPALES ETIQUETAS DE NLTK:\n",
    "\n",
    "CC: Conjuncion de coordinación\n",
    "CD: Numerico\n",
    "DT: Determinante\n",
    "FW: Palabra extranjera\n",
    "IN: Preposición\n",
    "JJ: Adjetivo\n",
    "JJR: Adjetivo comparativo\n",
    "JJS: Adjetivo superlativo\n",
    "LS: Lista\n",
    "MD: Modal\n",
    "NN: Sustantivo comun singular\n",
    "NNS: Sustantivo comun plural\n",
    "PNN: Sustantivo propio singular \n",
    "NNPS: Sustantivo propio plural\n",
    "GMT: Predeterminante\n",
    "POS: Posesivo\n",
    "PRP: Pronombre personal posesivo \n",
    "RB: Adverbio\n",
    "RBR: Adverbio comparativo\n",
    "RBS: Adverbio superlativo\n",
    "RP: Particulas\n",
    "UH: Interjección\n",
    "VB: Verbo\n",
    "VBG: Verbo gerundio\n",
    "VDB: Verbo pasado\n",
    "VBN: Verbo en pasado participio\n",
    "VBP: Verbo presente, excluyendo la tercera persona del singular\n",
    "VBZ: Verbo presente de la tercera persona del singular\n",
    "WDT: Determinador (?)\n",
    "WP: Forma del pronombre\n",
    "WRB: Forma del adverbio\n"
   ]
  },
  {
   "cell_type": "code",
   "execution_count": 5,
   "metadata": {},
   "outputs": [
    {
     "name": "stdout",
     "output_type": "stream",
     "text": [
      "Mot: Le, Etiquette: DET\n",
      "Mot: chat, Etiquette: NOUN\n",
      "Mot: noir, Etiquette: ADJ\n",
      "Mot: dort, Etiquette: ADJ\n",
      "Mot: paisiblement, Etiquette: NOUN\n"
     ]
    }
   ],
   "source": [
    "import spacy\n",
    "nlp = spacy.load('fr_core_news_sm')\n",
    "\n",
    "sentence = \"Le chat noir dort paisiblement\"\n",
    "\n",
    "doc = nlp(sentence)\n",
    "\n",
    "for token in doc:\n",
    "    print(f\"Mot: {token.text}, Etiquette: {token.pos_}\")"
   ]
  },
  {
   "cell_type": "markdown",
   "metadata": {},
   "source": [
    "El modelo small de francés responde incorrectamente, ya que asocia \"paisiblement --> noun\" y \"dort --> adjective\""
   ]
  },
  {
   "cell_type": "code",
   "execution_count": 6,
   "metadata": {},
   "outputs": [
    {
     "name": "stdout",
     "output_type": "stream",
     "text": [
      "Mot: Le, Etiquette: DET\n",
      "Mot: chat, Etiquette: NOUN\n",
      "Mot: noir, Etiquette: ADJ\n",
      "Mot: dort, Etiquette: VERB\n",
      "Mot: paisiblement, Etiquette: ADV\n"
     ]
    }
   ],
   "source": [
    "import spacy\n",
    "nlp = spacy.load('fr_core_news_md')\n",
    "\n",
    "sentence = \"Le chat noir dort paisiblement\"\n",
    "\n",
    "doc = nlp(sentence)\n",
    "\n",
    "for token in doc:\n",
    "    print(f\"Mot: {token.text}, Etiquette: {token.pos_}\")"
   ]
  },
  {
   "cell_type": "markdown",
   "metadata": {},
   "source": [
    "El modelo medium responde correctamente"
   ]
  },
  {
   "cell_type": "code",
   "execution_count": 8,
   "metadata": {},
   "outputs": [
    {
     "name": "stdout",
     "output_type": "stream",
     "text": [
      "Mot: La, Etiquette: DET\n",
      "Mot: bibliothèque, Etiquette: NOUN\n",
      "Mot: Spacy, Etiquette: PROPN\n",
      "Mot: offre, Etiquette: VERB\n",
      "Mot: des, Etiquette: DET\n",
      "Mot: outils, Etiquette: NOUN\n",
      "Mot: puissants, Etiquette: ADJ\n",
      "Mot: pour, Etiquette: ADP\n",
      "Mot: le, Etiquette: DET\n",
      "Mot: traitement, Etiquette: NOUN\n",
      "Mot: du, Etiquette: ADP\n",
      "Mot: langage, Etiquette: NOUN\n",
      "Mot: naturel, Etiquette: ADJ\n",
      "Mot: ., Etiquette: PUNCT\n",
      "Mot: Ses, Etiquette: DET\n",
      "Mot: fonctionnalités, Etiquette: NOUN\n",
      "Mot: incluent, Etiquette: VERB\n",
      "Mot: l', Etiquette: DET\n",
      "Mot: analyse, Etiquette: NOUN\n",
      "Mot: syntaxique, Etiquette: ADJ\n",
      "Mot: ,, Etiquette: PUNCT\n",
      "Mot: l', Etiquette: DET\n",
      "Mot: etiquetage, Etiquette: NOUN\n",
      "Mot: morphosyntaxique, Etiquette: ADJ\n",
      "Mot: ,, Etiquette: PUNCT\n",
      "Mot: et, Etiquette: CCONJ\n",
      "Mot: bien, Etiquette: ADV\n",
      "Mot: plus, Etiquette: ADV\n",
      "Mot: encore, Etiquette: ADV\n",
      "Mot: ., Etiquette: PUNCT\n"
     ]
    }
   ],
   "source": [
    "import spacy\n",
    "paragraph = \"La bibliothèque Spacy offre des outils puissants pour le traitement du langage naturel. Ses fonctionnalités incluent l'analyse syntaxique, l'etiquetage morphosyntaxique, et bien plus encore.\"\n",
    "\n",
    "doc_paragraph = nlp(paragraph)\n",
    "\n",
    "for token in doc_paragraph:\n",
    "    print(f\"Mot: {token.text}, Etiquette: {token.pos_}\")\n",
    " "
   ]
  },
  {
   "cell_type": "markdown",
   "metadata": {},
   "source": [
    "PRINCIPALES ETIQUETAS DE SPACY:\n",
    "\n",
    "ADJ: adjetivo\n",
    "ADP: preposicion\n",
    "ADV: adverbio\n",
    "AUX: auxiliar\n",
    "CONJ: conjuncion\n",
    "CCONJ: conjuncion de coordinacion\n",
    "DET: determinante\n",
    "INTJ: interjeccion\n",
    "NOUN: sustantivo comun\n",
    "NUM: numerico\n",
    "PART: particula\n",
    "PRON: pronombre \n",
    "PROPN: sustantivo propio\n",
    "PUNCT: puntuacion\n",
    "SCONJ: conjuncion de subordinacion\n",
    "SYM: simbolos\n",
    "VERB: verbos"
   ]
  }
 ],
 "metadata": {
  "kernelspec": {
   "display_name": "Python 3",
   "language": "python",
   "name": "python3"
  },
  "language_info": {
   "codemirror_mode": {
    "name": "ipython",
    "version": 3
   },
   "file_extension": ".py",
   "mimetype": "text/x-python",
   "name": "python",
   "nbconvert_exporter": "python",
   "pygments_lexer": "ipython3",
   "version": "3.11.9"
  }
 },
 "nbformat": 4,
 "nbformat_minor": 2
}
